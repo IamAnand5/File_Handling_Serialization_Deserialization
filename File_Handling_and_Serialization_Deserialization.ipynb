{
 "cells": [
  {
   "cell_type": "markdown",
   "id": "16633c77-0ec7-491c-b71d-80db2a33c304",
   "metadata": {},
   "source": [
    "### Some Theory\n",
    "##### Types of data used for I/O:\n",
    "    Text- '12345' as a sequence of unicode chars\n",
    "    Binary - '12345' as a sequence of bytes of its binary equivalent\n",
    "\n",
    "Hence there are 2 file types to deal with\n",
    "    \n",
    "    Text files- All program files are files\n",
    "    \n",
    "    Binary files- Images,music,video,exe files\n",
    "\n",
    "### How File I/O is done in most programming languages\n",
    "\n",
    "    Open a file\n",
    "    Read/Write data\n",
    "    Close the file\n"
   ]
  },
  {
   "cell_type": "markdown",
   "id": "c5f7b9e7-f626-4f71-adfd-cabb957cc294",
   "metadata": {},
   "source": [
    "### Writing to a file"
   ]
  },
  {
   "cell_type": "code",
   "execution_count": 3,
   "id": "377c2412-7c02-43b7-ace9-6f8f6f821471",
   "metadata": {},
   "outputs": [],
   "source": [
    "# case1 - if the file is not present\n",
    "\n",
    "f = open('sample.txt', 'w')   # open/create new file named sample.txt and write operation on\n",
    "f.write('Heloo world')     # write the data with write mode operation\n",
    "f.close()    # close the file\n",
    "\n",
    "# since file is closed, hence this will not work\n",
    "#f.write('Hi')"
   ]
  },
  {
   "cell_type": "code",
   "execution_count": 4,
   "id": "022eb65e-51f6-4006-9867-ddc373c867dd",
   "metadata": {},
   "outputs": [],
   "source": [
    "# write multiline strings\n",
    "# syntax: open('path', 'w') path specify the path where you want to create the file i.e. in which drive\n",
    "\n",
    "f = open('sample1.txt','w')      # open\n",
    "f.write('how are you')           # write\n",
    "f.write(\"\\nwhat's going on?\")    # write\n",
    "f.close()                       "
   ]
  },
  {
   "cell_type": "code",
   "execution_count": 5,
   "id": "54556c8f-6166-46f7-ba99-0cddb4930cce",
   "metadata": {},
   "outputs": [],
   "source": [
    "# case2 - if the file is already present\n",
    "\n",
    "f = open('sample.txt','w')\n",
    "f.write('Anand')     # will replace the old content from sample.txt and will print Anand inplace of Heloo world\n",
    "f.close()"
   ]
  },
  {
   "cell_type": "markdown",
   "id": "cac6d135-c419-421e-bd5c-a3ae8d691970",
   "metadata": {},
   "source": [
    "#### How exactly open() works?\n",
    "\n",
    "Basically, this file is a simple file jo hmare computer k hard drive pr rhti hai, naki ram mein. Ab jb ye code (f = open('sample.txt', 'w')) likhte hain to python us file ko ram (buffer memory: mein file character by character read hota hai) me load kr deta hai. Ab jb tk file operation perform kr rhe hote hain tb tk wo file ram ke ander buffer memory mein hai jb tk hm operation perform kr rhe hote hain (read,write). And jb close() function call hota hai tb ye memory se nikal jati hai aur wapis store ho jati hai hard drive mein."
   ]
  },
  {
   "cell_type": "code",
   "execution_count": 7,
   "id": "620de8af-4a22-4101-a3e3-32c89aa85a2e",
   "metadata": {},
   "outputs": [],
   "source": [
    "# Problem with 'w' mode\n",
    "# Introducing append mode\n",
    "\n",
    "f = open(\"sample1.txt\",'a')    # here a means append mode used for writing to a file without previous content removal\n",
    "f.write(\"\\nIt's all good\")\n",
    "f.close()"
   ]
  },
  {
   "cell_type": "code",
   "execution_count": 8,
   "id": "fa85006d-377d-4345-8146-2d9452a06eaf",
   "metadata": {},
   "outputs": [],
   "source": [
    "# write many/ multiple lines\n",
    "\n",
    "L = ['Hey','\\nEveryone','\\nhere we are introducing','\\nall new wagonR']\n",
    "\n",
    "f = open('sample.txt','w')\n",
    "f.writelines(L)      # writelines() used to write multiple lines at same time\n",
    "f.close()"
   ]
  },
  {
   "cell_type": "markdown",
   "id": "1827e5ac-a2a5-4345-b531-b5ea6daf4e75",
   "metadata": {},
   "source": [
    "#### Why close() is must?\n",
    "##### Two reasons:\n",
    "1.)  close() is must because file is in ram and if file size is in GBs then it takes a lot of memory in RAM. Hence to free up the space we need to close the file using close().\n",
    "\n",
    "2.)  Second, if we don't close the file then it is harmful to the security point of view of that file's content. Anyone can read that file's content."
   ]
  },
  {
   "cell_type": "code",
   "execution_count": 10,
   "id": "aed56795-3f1b-422b-84dc-be7a3bcfb19c",
   "metadata": {},
   "outputs": [
    {
     "name": "stdout",
     "output_type": "stream",
     "text": [
      "Hey\n",
      "Everyone\n",
      "here we are introducing\n",
      "all new wagonR\n"
     ]
    }
   ],
   "source": [
    "# reading from files\n",
    "# using read(): ek sath poora content read kr leta hai\n",
    "\n",
    "f = open('sample.txt','r')\n",
    "s = f.read()\n",
    "print(s)\n",
    "f.close()\n",
    "\n",
    "# Every time when we make read/write operation on textual files its only in string format, any other format is not understandable \n",
    "# number, dictionary, set etc everthing will be string"
   ]
  },
  {
   "cell_type": "code",
   "execution_count": 11,
   "id": "757ab7a5-3e3c-43a0-931e-73e9d962acb8",
   "metadata": {},
   "outputs": [
    {
     "name": "stdout",
     "output_type": "stream",
     "text": [
      "Hey\n",
      "Everyone\n",
      "h\n"
     ]
    }
   ],
   "source": [
    "# reading upto n characters\n",
    "\n",
    "f = open('sample.txt','r')\n",
    "s = f.read(14)\n",
    "print(s)\n",
    "f.close()"
   ]
  },
  {
   "cell_type": "code",
   "execution_count": 12,
   "id": "31ef097a-e2ca-420d-bace-ad0839674b13",
   "metadata": {},
   "outputs": [
    {
     "name": "stdout",
     "output_type": "stream",
     "text": [
      "Hey\n",
      "Everyone\n"
     ]
    }
   ],
   "source": [
    "# readline(): to read line by line\n",
    "f = open('sample.txt','r')\n",
    "d = f.readline()\n",
    "s = f.readline()\n",
    "print(d,end='')\n",
    "print(s,end = '')   # end to remove the line space\n",
    "f.close()"
   ]
  },
  {
   "cell_type": "markdown",
   "id": "c04c79a8-6078-48be-8783-a3a0eeac86c1",
   "metadata": {},
   "source": [
    "##### When to use read() and readline()\n",
    "read(): is used when we are working with small file and content is less to memory consumption.\n",
    "readline(): is used when we are working with large dataset and we need to manage memory with the content. Example: agr content bahut jada hai aur hame kuch selected content pe hi kaam krna hai to hm readline() use krte hain."
   ]
  },
  {
   "cell_type": "code",
   "execution_count": 14,
   "id": "36275ab2-c9f1-48ea-89be-5652bb7f7834",
   "metadata": {},
   "outputs": [
    {
     "name": "stdout",
     "output_type": "stream",
     "text": [
      "Hey\n",
      "Everyone\n",
      "here we are introducing\n",
      "all new wagonR"
     ]
    }
   ],
   "source": [
    "# reading entire using readline()\n",
    "# agr hme pta nhi ho ki uss file me kitni lines hain to we use while loop with custom code\n",
    "\n",
    "f = open('sample.txt', 'r')\n",
    "\n",
    "# while f.readline() != \" \":\n",
    "#     print(f.readline(),end=\"\")\n",
    "\n",
    "while True:\n",
    "    data = f.readline()\n",
    "\n",
    "    if data == '':\n",
    "        break\n",
    "    else:\n",
    "        print(data,end='')\n",
    "\n",
    "f.close()"
   ]
  },
  {
   "cell_type": "markdown",
   "id": "987d85d0-a62e-4078-9eca-3858e010bb31",
   "metadata": {},
   "source": [
    "### Using context manager (with)\n",
    "\n",
    "    1.) It's a good idea to close a file after usage as it will free up the resources\n",
    "    2.) If we don't close it, garbage collector would close it\n",
    "    3.) with keyword closes the file as soon as the usage is over"
   ]
  },
  {
   "cell_type": "code",
   "execution_count": 16,
   "id": "b3eab6bd-6587-4948-a1c7-e8bef1f8651f",
   "metadata": {},
   "outputs": [],
   "source": [
    "# 'with' keyword: with keyword do the open/write/close operation in a single line of code\n",
    "\n",
    "with open('sample1.txt','w') as f:\n",
    "    f.write('Anand S')"
   ]
  },
  {
   "cell_type": "code",
   "execution_count": 17,
   "id": "74216973-200c-4e69-80f4-c6a16786a48c",
   "metadata": {},
   "outputs": [
    {
     "ename": "ValueError",
     "evalue": "I/O operation on closed file.",
     "output_type": "error",
     "traceback": [
      "\u001b[1;31m---------------------------------------------------------------------------\u001b[0m",
      "\u001b[1;31mValueError\u001b[0m                                Traceback (most recent call last)",
      "Cell \u001b[1;32mIn[17], line 1\u001b[0m\n\u001b[1;32m----> 1\u001b[0m f\u001b[38;5;241m.\u001b[39mwrite(\u001b[38;5;124m'\u001b[39m\u001b[38;5;124mHello\u001b[39m\u001b[38;5;124m'\u001b[39m)\n",
      "\u001b[1;31mValueError\u001b[0m: I/O operation on closed file."
     ]
    }
   ],
   "source": [
    "f.write('Hello')    # will throw an error because 'with' keyword close the file at the same time so you can't make write operation"
   ]
  },
  {
   "cell_type": "code",
   "execution_count": null,
   "id": "a59594d2-710c-462f-8b36-2782ec9551d7",
   "metadata": {},
   "outputs": [],
   "source": [
    "# f.read() using 'with' keyword\n",
    "\n",
    "with open('sample.txt', 'r') as f:\n",
    "    print(f.read())\n",
    "\n",
    "# same we can do with readline()"
   ]
  },
  {
   "cell_type": "code",
   "execution_count": null,
   "id": "27f42f66-016a-400f-8ef0-1b38860c0125",
   "metadata": {},
   "outputs": [],
   "source": [
    "# moving within a file: loading a file in chunks. If we have large file in GBs then it is good practice to load it in chunks using below code\n",
    "\n",
    "with open('sample.txt', 'r') as f:\n",
    "    print(f.read(10))\n",
    "    print(f.read(10))"
   ]
  },
  {
   "cell_type": "code",
   "execution_count": null,
   "id": "ae42515e-8d56-42bc-9f43-b5144190f160",
   "metadata": {},
   "outputs": [],
   "source": [
    "# benefit?: to load a big file in memory\n",
    "\n",
    "big_L = ['hello world' for i in range(1000)]\n",
    "\n",
    "with open('big.txt', 'w') as f:\n",
    "    f.writelines(big_L)"
   ]
  },
  {
   "cell_type": "code",
   "execution_count": null,
   "id": "82a51010-0d64-4002-971e-eba8a9e41afb",
   "metadata": {},
   "outputs": [],
   "source": [
    "# loading above file big.txt in chunks\n",
    "\n",
    "with open('big.txt', 'r') as f:\n",
    "    chunk_size = 100\n",
    "\n",
    "    # this code will read the file data in chunks until the it is not equal to 0.\n",
    "    while len(f.read(chunk_size)) > 0:\n",
    "        print(f.read(chunk_size))\n",
    "        f.read(chunk_size)"
   ]
  },
  {
   "cell_type": "markdown",
   "id": "166c0aae-918a-4e60-ac91-507966304d82",
   "metadata": {},
   "source": [
    "#### Seek and Tell"
   ]
  },
  {
   "cell_type": "code",
   "execution_count": null,
   "id": "ce50466f-52db-4c20-be87-5e2746dce208",
   "metadata": {},
   "outputs": [],
   "source": [
    "# Seek and Tell\n",
    "\n",
    "with open('sample.txt', 'r') as f:\n",
    "    print(f.read(10))\n",
    "\n",
    "# tell() is a mechanism to tell ki abhi tk kitna text process kiya hai aur next kon sa character print hoga\n",
    "    print(f.tell())\n",
    "\n",
    "# seek() has a power to move in our file anywhere where the value is provided as shown below code\n",
    "    f.seek(0)\n",
    "    print(f.read(10))\n",
    "    print(f.tell())\n",
    "\n",
    "    f.seek(12)\n",
    "    print(f.read(10))\n",
    "    print(f.tell())"
   ]
  },
  {
   "cell_type": "code",
   "execution_count": null,
   "id": "a7defb92-7221-4315-9c7b-a7657ea505f4",
   "metadata": {},
   "outputs": [],
   "source": [
    "# seek during write\n",
    "\n",
    "with open('sample.txt','w') as f:\n",
    "    f.write('Hello')\n",
    "    f.seek(0)\n",
    "    #f.write('X')   # prints Xello\n",
    "    f.write('Xa')   # prints Xallo"
   ]
  },
  {
   "cell_type": "markdown",
   "id": "eac0362f-b966-45eb-bd4e-7ce42cdd7a01",
   "metadata": {},
   "source": [
    "### Problems with working in text mode\n",
    "    1.) can't work with binary files like images\n",
    "    2.) not good for other data types like int/float/list/tuples"
   ]
  },
  {
   "cell_type": "code",
   "execution_count": null,
   "id": "ac5154dd-5481-44c2-bc7a-eaadc9d02ca8",
   "metadata": {},
   "outputs": [],
   "source": [
    "# problem when working with binary file\n",
    "\n",
    "with open('car.jpeg','r') as f:\n",
    "    f.read()"
   ]
  },
  {
   "cell_type": "code",
   "execution_count": null,
   "id": "db90ad92-28b2-42fe-a201-1399853c1688",
   "metadata": {},
   "outputs": [],
   "source": [
    "# working with binary file\n",
    "\n",
    "# rb as readbinary and wb as write binary operations are required to read and write the binary files\n",
    "with open('car.jpeg', 'rb') as f:\n",
    "    with open('car_copy.jpeg', 'wb') as wf:\n",
    "        wf.write(f.read())"
   ]
  },
  {
   "cell_type": "code",
   "execution_count": null,
   "id": "99e04bf5-039c-41a3-8733-e93cde3bcc44",
   "metadata": {},
   "outputs": [],
   "source": [
    "# working with other data types\n",
    "\n",
    "with open('sample.txt','w') as f:\n",
    "    f.write(5)   # throw error with integer data type"
   ]
  },
  {
   "cell_type": "code",
   "execution_count": null,
   "id": "a0302f5f-4779-4963-ac89-a537a71fd125",
   "metadata": {},
   "outputs": [],
   "source": [
    "with open('sample.txt', 'w') as f:\n",
    "    f.write('5')"
   ]
  },
  {
   "cell_type": "code",
   "execution_count": null,
   "id": "3f3f225d-d276-4e0d-abf3-27222f7520ef",
   "metadata": {},
   "outputs": [],
   "source": [
    "with open('sample.txt', 'r') as f:\n",
    "    print(f.read() + 5)    # will throw an error because string datatype cannot be added with int"
   ]
  },
  {
   "cell_type": "code",
   "execution_count": null,
   "id": "f5f882c3-28d7-4fad-ad74-a61309c1f9f4",
   "metadata": {},
   "outputs": [],
   "source": [
    "with open('sample.txt', 'r') as f:\n",
    "    print(int(f.read()) + 5)"
   ]
  },
  {
   "cell_type": "code",
   "execution_count": null,
   "id": "278c0ded-dec5-4500-a7a0-ee6d41f5d8de",
   "metadata": {},
   "outputs": [],
   "source": [
    "# more complex data\n",
    "\n",
    "d = {\n",
    "    'name' : 'Anand',\n",
    "    'age' : '33',\n",
    "    'gender' : 'M'\n",
    "}\n",
    "\n",
    "with open('sample.txt','w') as f:\n",
    "    f.write(d)        # will throw an error showing that it would be string as shown in below code"
   ]
  },
  {
   "cell_type": "code",
   "execution_count": null,
   "id": "c4e4661b-7907-48f3-b5c1-65f08907ec14",
   "metadata": {},
   "outputs": [],
   "source": [
    "d = {\n",
    "    'name' : 'Anand',\n",
    "    'age' : '33',\n",
    "    'gender' : 'M'\n",
    "}\n",
    "\n",
    "with open('sample.txt','w') as f:\n",
    "    f.write(str(d))"
   ]
  },
  {
   "cell_type": "code",
   "execution_count": null,
   "id": "21151f11-ece9-4eb6-a2fe-4396a74fbeba",
   "metadata": {},
   "outputs": [],
   "source": [
    "with open('sample.txt','r') as f:\n",
    "     print(f.read())\n",
    "     print(type(f.read()))"
   ]
  },
  {
   "cell_type": "code",
   "execution_count": null,
   "id": "c14f44d1-1e89-48a5-8447-aadc8269f13d",
   "metadata": {},
   "outputs": [],
   "source": [
    "# you cannot convert a string to dictionary again\n",
    "\n",
    "with open('sample.txt','r') as f:\n",
    "     print(dict(f.read()))   # will throw an error "
   ]
  },
  {
   "cell_type": "markdown",
   "id": "1878ead0-a981-4b1b-a71b-93dc397141ad",
   "metadata": {},
   "source": [
    "##### To avoid situation like above where we need to convert a string to dictionary is not possible, we need the concept of Serialization and Deserialization"
   ]
  },
  {
   "cell_type": "markdown",
   "id": "c05335f1-2475-4755-9142-5f479336cb0a",
   "metadata": {},
   "source": [
    "### Serialization and Deserialization\n",
    "    Serialization: process of converting python data types to JSON format \n",
    "    Deserialization: process of converting JSON to python data types\n",
    "\n",
    "What is JSON?\n",
    "\n",
    "    JSON is Java Script On Notation, and it is a kind of universal data format. It is understandable to any programming language. It is a universal data format. Every API is using JSON. "
   ]
  },
  {
   "cell_type": "code",
   "execution_count": null,
   "id": "46084f36-d518-449b-a9e7-65ba7ca3e14e",
   "metadata": {},
   "outputs": [],
   "source": [
    "# Serialization using json module\n",
    "# list\n",
    "import json\n",
    "\n",
    "L = [1,2,3,4]\n",
    "\n",
    "with open('demo.json','w') as f:\n",
    "    json.dump(L,f)    "
   ]
  },
  {
   "cell_type": "code",
   "execution_count": null,
   "id": "96250960-fd20-4902-983a-213864ace5d8",
   "metadata": {},
   "outputs": [],
   "source": [
    "# dictionary\n",
    "\n",
    "d = {\n",
    "    'name' : 'Anand',\n",
    "    'age' : '33',\n",
    "    'gender' : 'M'\n",
    "}\n",
    "\n",
    "with open('demo.json', 'w') as f:\n",
    "    json.dump(d,f)"
   ]
  },
  {
   "cell_type": "code",
   "execution_count": null,
   "id": "83591dc5-d762-482b-9fb7-b1140aa18caa",
   "metadata": {},
   "outputs": [],
   "source": [
    "# deserialization\n",
    "import json\n",
    "\n",
    "with open('demo.json', 'r') as f:\n",
    "    d = json.load(f)\n",
    "    print(d)\n",
    "    print(type(d))"
   ]
  },
  {
   "cell_type": "code",
   "execution_count": null,
   "id": "5707df46-1da8-43dc-8d6c-12707b59a814",
   "metadata": {},
   "outputs": [],
   "source": [
    "# serialize and deserialize tuple\n",
    "import json\n",
    "\n",
    "t = (1,2,3,4)\n",
    "\n",
    "with open('demo.json', 'w') as f:\n",
    "    json.dump(t,f)     # here tuple is also stored as list but we can change its data type"
   ]
  },
  {
   "cell_type": "code",
   "execution_count": 32,
   "id": "3cfc6b06-a9b5-4804-b944-bbc941a3caf4",
   "metadata": {},
   "outputs": [],
   "source": [
    "# serialization and deserialization a nested dictionary\n",
    "\n",
    "d = {\n",
    "    'student' : 'Anand',\n",
    "    'marks' : [18,15,16,12]\n",
    "}\n",
    "\n",
    "with open('demo.json', 'w') as f:\n",
    "    json.dump(d,f)"
   ]
  },
  {
   "cell_type": "markdown",
   "id": "106dd4e3-00c0-4a35-b4f0-8292bf7a52e4",
   "metadata": {},
   "source": [
    "### Serialization and Deserialization custom objects"
   ]
  },
  {
   "cell_type": "code",
   "execution_count": 41,
   "id": "386fc6f7-4649-45a4-8219-fd15e1b01d02",
   "metadata": {},
   "outputs": [],
   "source": [
    "class Person:\n",
    "\n",
    "    def __init__(self,fname,lname,age,gender):\n",
    "        self.fname = fname\n",
    "        self.lname = lname\n",
    "        self.age = age\n",
    "        self.gender = gender\n",
    "\n",
    "person = Person(\"Anand\",'S',33,'M')"
   ]
  },
  {
   "cell_type": "code",
   "execution_count": 43,
   "id": "28a698d5-d26d-4c7a-889f-9ca6048c2e6f",
   "metadata": {},
   "outputs": [
    {
     "ename": "TypeError",
     "evalue": "Object of type Person is not JSON serializable",
     "output_type": "error",
     "traceback": [
      "\u001b[1;31m---------------------------------------------------------------------------\u001b[0m",
      "\u001b[1;31mTypeError\u001b[0m                                 Traceback (most recent call last)",
      "Cell \u001b[1;32mIn[43], line 6\u001b[0m\n\u001b[0;32m      3\u001b[0m \u001b[38;5;28;01mimport\u001b[39;00m \u001b[38;5;21;01mjson\u001b[39;00m\n\u001b[0;32m      5\u001b[0m \u001b[38;5;28;01mwith\u001b[39;00m \u001b[38;5;28mopen\u001b[39m(\u001b[38;5;124m'\u001b[39m\u001b[38;5;124mdemo1.json\u001b[39m\u001b[38;5;124m'\u001b[39m,\u001b[38;5;124m'\u001b[39m\u001b[38;5;124mw\u001b[39m\u001b[38;5;124m'\u001b[39m) \u001b[38;5;28;01mas\u001b[39;00m f:\n\u001b[1;32m----> 6\u001b[0m     json\u001b[38;5;241m.\u001b[39mdump(person,f)\n",
      "File \u001b[1;32mC:\\Anaconda\\Lib\\json\\__init__.py:179\u001b[0m, in \u001b[0;36mdump\u001b[1;34m(obj, fp, skipkeys, ensure_ascii, check_circular, allow_nan, cls, indent, separators, default, sort_keys, **kw)\u001b[0m\n\u001b[0;32m    173\u001b[0m     iterable \u001b[38;5;241m=\u001b[39m \u001b[38;5;28mcls\u001b[39m(skipkeys\u001b[38;5;241m=\u001b[39mskipkeys, ensure_ascii\u001b[38;5;241m=\u001b[39mensure_ascii,\n\u001b[0;32m    174\u001b[0m         check_circular\u001b[38;5;241m=\u001b[39mcheck_circular, allow_nan\u001b[38;5;241m=\u001b[39mallow_nan, indent\u001b[38;5;241m=\u001b[39mindent,\n\u001b[0;32m    175\u001b[0m         separators\u001b[38;5;241m=\u001b[39mseparators,\n\u001b[0;32m    176\u001b[0m         default\u001b[38;5;241m=\u001b[39mdefault, sort_keys\u001b[38;5;241m=\u001b[39msort_keys, \u001b[38;5;241m*\u001b[39m\u001b[38;5;241m*\u001b[39mkw)\u001b[38;5;241m.\u001b[39miterencode(obj)\n\u001b[0;32m    177\u001b[0m \u001b[38;5;66;03m# could accelerate with writelines in some versions of Python, at\u001b[39;00m\n\u001b[0;32m    178\u001b[0m \u001b[38;5;66;03m# a debuggability cost\u001b[39;00m\n\u001b[1;32m--> 179\u001b[0m \u001b[38;5;28;01mfor\u001b[39;00m chunk \u001b[38;5;129;01min\u001b[39;00m iterable:\n\u001b[0;32m    180\u001b[0m     fp\u001b[38;5;241m.\u001b[39mwrite(chunk)\n",
      "File \u001b[1;32mC:\\Anaconda\\Lib\\json\\encoder.py:439\u001b[0m, in \u001b[0;36m_make_iterencode.<locals>._iterencode\u001b[1;34m(o, _current_indent_level)\u001b[0m\n\u001b[0;32m    437\u001b[0m         \u001b[38;5;28;01mraise\u001b[39;00m \u001b[38;5;167;01mValueError\u001b[39;00m(\u001b[38;5;124m\"\u001b[39m\u001b[38;5;124mCircular reference detected\u001b[39m\u001b[38;5;124m\"\u001b[39m)\n\u001b[0;32m    438\u001b[0m     markers[markerid] \u001b[38;5;241m=\u001b[39m o\n\u001b[1;32m--> 439\u001b[0m o \u001b[38;5;241m=\u001b[39m _default(o)\n\u001b[0;32m    440\u001b[0m \u001b[38;5;28;01myield from\u001b[39;00m _iterencode(o, _current_indent_level)\n\u001b[0;32m    441\u001b[0m \u001b[38;5;28;01mif\u001b[39;00m markers \u001b[38;5;129;01mis\u001b[39;00m \u001b[38;5;129;01mnot\u001b[39;00m \u001b[38;5;28;01mNone\u001b[39;00m:\n",
      "File \u001b[1;32mC:\\Anaconda\\Lib\\json\\encoder.py:180\u001b[0m, in \u001b[0;36mJSONEncoder.default\u001b[1;34m(self, o)\u001b[0m\n\u001b[0;32m    161\u001b[0m \u001b[38;5;28;01mdef\u001b[39;00m \u001b[38;5;21mdefault\u001b[39m(\u001b[38;5;28mself\u001b[39m, o):\n\u001b[0;32m    162\u001b[0m \u001b[38;5;250m    \u001b[39m\u001b[38;5;124;03m\"\"\"Implement this method in a subclass such that it returns\u001b[39;00m\n\u001b[0;32m    163\u001b[0m \u001b[38;5;124;03m    a serializable object for ``o``, or calls the base implementation\u001b[39;00m\n\u001b[0;32m    164\u001b[0m \u001b[38;5;124;03m    (to raise a ``TypeError``).\u001b[39;00m\n\u001b[1;32m   (...)\u001b[0m\n\u001b[0;32m    178\u001b[0m \n\u001b[0;32m    179\u001b[0m \u001b[38;5;124;03m    \"\"\"\u001b[39;00m\n\u001b[1;32m--> 180\u001b[0m     \u001b[38;5;28;01mraise\u001b[39;00m \u001b[38;5;167;01mTypeError\u001b[39;00m(\u001b[38;5;124mf\u001b[39m\u001b[38;5;124m'\u001b[39m\u001b[38;5;124mObject of type \u001b[39m\u001b[38;5;132;01m{\u001b[39;00mo\u001b[38;5;241m.\u001b[39m\u001b[38;5;18m__class__\u001b[39m\u001b[38;5;241m.\u001b[39m\u001b[38;5;18m__name__\u001b[39m\u001b[38;5;132;01m}\u001b[39;00m\u001b[38;5;124m \u001b[39m\u001b[38;5;124m'\u001b[39m\n\u001b[0;32m    181\u001b[0m                     \u001b[38;5;124mf\u001b[39m\u001b[38;5;124m'\u001b[39m\u001b[38;5;124mis not JSON serializable\u001b[39m\u001b[38;5;124m'\u001b[39m)\n",
      "\u001b[1;31mTypeError\u001b[0m: Object of type Person is not JSON serializable"
     ]
    }
   ],
   "source": [
    "# As a string\n",
    "\n",
    "import json\n",
    "\n",
    "with open('demo1.json','w') as f:\n",
    "    json.dump(person,f)    # will not work; how work shown below"
   ]
  },
  {
   "cell_type": "code",
   "execution_count": 51,
   "id": "5fe039f5-a322-4512-8595-98931ed9f7bb",
   "metadata": {},
   "outputs": [],
   "source": [
    "# to display as a string\n",
    "\n",
    "import json\n",
    "\n",
    "def show_object(perso):\n",
    "    if isinstance(person,Person):\n",
    "        return \"Name -> {} {} Age -> {} Gender -> {}\".format(person.fname,person.lname,person.age,person.gender)\n",
    "        \n",
    "\n",
    "with open('demo1.json','w') as f:\n",
    "    json.dump(person,f,default=show_object)   "
   ]
  },
  {
   "cell_type": "code",
   "execution_count": 55,
   "id": "ce1d4470-11e4-49b3-a6dd-9b66af927e16",
   "metadata": {},
   "outputs": [],
   "source": [
    "# to display as a dictionary\n",
    "\n",
    "import json\n",
    "\n",
    "def show_object(perso):\n",
    "    if isinstance(person,Person):\n",
    "        return {'Name' : person.fname +' '+ person.lname, 'Age' : person.age, 'Gender' : person.gender}        \n",
    "\n",
    "with open('demo1.json','w') as f:\n",
    "    json.dump(person,f,default=show_object)   "
   ]
  },
  {
   "cell_type": "code",
   "execution_count": 63,
   "id": "c4e35281-9d74-404b-979e-1e59e69ebdc5",
   "metadata": {},
   "outputs": [
    {
     "name": "stdout",
     "output_type": "stream",
     "text": [
      "{'Name': 'Anand S', 'Age': 33, 'Gender': 'M'}\n",
      "<class 'dict'>\n"
     ]
    }
   ],
   "source": [
    "# deserialization\n",
    "import json\n",
    "\n",
    "with open('demo1.json','r') as f:\n",
    "    o = json.load(f)\n",
    "    print(o)\n",
    "    print(type(o))"
   ]
  },
  {
   "cell_type": "markdown",
   "id": "20dcdc87-4d50-4207-93d0-8277657a6053",
   "metadata": {},
   "source": [
    "### Pickling:\n",
    "    Pickling is the process whereby a Python object hierarchy is converted into a byte stream, and Unpickling is the inverse operation, whereby a byte stream (from a binary file or bytes-like bject) is converted back into an object hierarchy."
   ]
  },
  {
   "cell_type": "code",
   "execution_count": 72,
   "id": "657e3d22-5503-480d-a67b-2079384ad439",
   "metadata": {},
   "outputs": [],
   "source": [
    "class Person:\n",
    "\n",
    "    def __init__(self,name,age):\n",
    "       self.name = name\n",
    "       self.age = age\n",
    "\n",
    "    def display_info(self):\n",
    "        print('Hi My name is:',self.name,'and I am:',self.age,'years old')\n",
    "\n",
    "p = Person('Anand',33)"
   ]
  },
  {
   "cell_type": "code",
   "execution_count": 78,
   "id": "4601dafe-266f-4b16-bb23-e01bf0e84a28",
   "metadata": {},
   "outputs": [],
   "source": [
    "# pickle dump: converting an object to binary\n",
    "import pickle\n",
    "\n",
    "with open('person.pkl', 'wb') as f:\n",
    "    pickle.dump(p,f)"
   ]
  },
  {
   "cell_type": "code",
   "execution_count": 82,
   "id": "dfdc43d6-95e7-4fb6-ad47-2c8aa1649df0",
   "metadata": {},
   "outputs": [
    {
     "name": "stdout",
     "output_type": "stream",
     "text": [
      "Hi My name is: Anand and I am: 33 years old\n"
     ]
    }
   ],
   "source": [
    "# pickle load\n",
    "\n",
    "import pickle\n",
    "\n",
    "with open('person.pkl', 'rb') as f:\n",
    "    p = pickle.load(f)\n",
    "\n",
    "p.display_info()"
   ]
  },
  {
   "cell_type": "markdown",
   "id": "6bf02828-3486-484f-9558-77bf24cab65d",
   "metadata": {
    "jp-MarkdownHeadingCollapsed": true
   },
   "source": [
    "#### Pickle vs Json\n",
    "\n",
    "###### Pickle: Lets the user to store data in binary format.(Agr object ka functinality retain krna hai aur kisi doosri file me bhejna hai we would use pickle)\n",
    "\n",
    "###### JSON: Lets the user to store data in human-readable text format.(agr hme apne custom object ko text representation dena hai to JSON use hoga)"
   ]
  }
 ],
 "metadata": {
  "kernelspec": {
   "display_name": "Python 3 (ipykernel)",
   "language": "python",
   "name": "python3"
  },
  "language_info": {
   "codemirror_mode": {
    "name": "ipython",
    "version": 3
   },
   "file_extension": ".py",
   "mimetype": "text/x-python",
   "name": "python",
   "nbconvert_exporter": "python",
   "pygments_lexer": "ipython3",
   "version": "3.12.4"
  }
 },
 "nbformat": 4,
 "nbformat_minor": 5
}
